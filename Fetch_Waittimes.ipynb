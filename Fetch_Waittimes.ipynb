{
 "cells": [
  {
   "cell_type": "code",
   "execution_count": 1,
   "metadata": {},
   "outputs": [],
   "source": [
    "# script to withdraw JSON data from \n",
    "# VA center Waiting list directory: https://www.accesstopwt.va.gov/PWT\n",
    "# sample URL https://www.accesstopwt.va.gov/PWT/getRawData?location=Ohio&radius=50&apptType=12&patientType=\n",
    "# New_Patient&MaxWaitTime=-1&sortOrder=FacilityName&userLatitude=-1&userLongitude=-1&format=JSON"
   ]
  },
  {
   "cell_type": "code",
   "execution_count": 2,
   "metadata": {},
   "outputs": [],
   "source": [
    "import urllib.request\n",
    "import urllib.parse\n",
    "import csv \n",
    "import pandas as pd\n",
    "import json\n",
    "import logging\n",
    "import grequests\n",
    "import datetimeb\n",
    "import os"
   ]
  },
  {
   "cell_type": "code",
   "execution_count": 20,
   "metadata": {},
   "outputs": [],
   "source": [
    "import resource\n",
    "resource.setrlimit(resource.RLIMIT_NOFILE, (110000, 110000))"
   ]
  },
  {
   "cell_type": "code",
   "execution_count": 44,
   "metadata": {},
   "outputs": [],
   "source": [
    "BASE_PATH_STORAGE = \"../data/facility_wait_times\""
   ]
  },
  {
   "cell_type": "code",
   "execution_count": 22,
   "metadata": {},
   "outputs": [],
   "source": [
    "logger = logging.getLogger(__name__)\n",
    "logger.setLevel(logging.DEBUG)\n",
    "\n",
    "ch = logging.StreamHandler()\n",
    "ch.setLevel(logging.DEBUG)\n",
    "formatter = logging.Formatter('%(asctime)s - %(name)s - %(levelname)s - %(message)s')\n",
    "ch.setFormatter(formatter)\n",
    "logger.addHandler(ch)"
   ]
  },
  {
   "cell_type": "code",
   "execution_count": 23,
   "metadata": {},
   "outputs": [],
   "source": [
    "clinic_types = pd.read_csv('../data/_aux/clinic_type.csv',)\n",
    "states = pd.read_csv('../data/_aux/states.csv',) "
   ]
  },
  {
   "cell_type": "code",
   "execution_count": 24,
   "metadata": {},
   "outputs": [],
   "source": [
    "pat_types_dict = [\n",
    "    {\n",
    "        \"pat_type\" : \"New_Patient\"\n",
    "    },\n",
    "    {\n",
    "        \"pat_type\" : \"Established_Patient\"\n",
    "    }\n",
    "]\n",
    "pat_types = pd.DataFrame(pat_types_dict)"
   ]
  },
  {
   "cell_type": "code",
   "execution_count": 25,
   "metadata": {},
   "outputs": [],
   "source": [
    "def get_url(state, app_type, pat_type):\n",
    "    state = urllib.parse.quote(state)\n",
    "    app_type = int(app_type)\n",
    "    pat_type = urllib.parse.quote(pat_type)\n",
    "    \n",
    "    base_url = \"https://www.accesstopwt.va.gov/PWT/getRawData?location=%s&apptType=%s&patientType=%s&MaxWaitTime=-1&sortOrder=FacilityName&userLatitude=-1&userLongitude=-1&format=JSON\"\n",
    "    return (base_url % (state, app_type, pat_type))"
   ]
  },
  {
   "cell_type": "code",
   "execution_count": 26,
   "metadata": {},
   "outputs": [],
   "source": [
    "def fetch_call(url):\n",
    "    f = urllib.request.urlopen(url)\n",
    "    \n",
    "    try:\n",
    "        d = json.loads(f.read().decode('utf-8'))\n",
    "        return pd.DataFrame(d)\n",
    "    \n",
    "    except Exception as e:\n",
    "        msg = (\"No JSON parsing possible for URL: %s\" % f.read().decode('utf-8'))\n",
    "        logger.error(msg) \n",
    "        return pd.DataFrame([])"
   ]
  },
  {
   "cell_type": "code",
   "execution_count": 27,
   "metadata": {},
   "outputs": [],
   "source": [
    "def exception_handler(request, exception):\n",
    "    logger.error(exception)"
   ]
  },
  {
   "cell_type": "code",
   "execution_count": 28,
   "metadata": {},
   "outputs": [
    {
     "data": {
      "text/html": [
       "<div>\n",
       "<style scoped>\n",
       "    .dataframe tbody tr th:only-of-type {\n",
       "        vertical-align: middle;\n",
       "    }\n",
       "\n",
       "    .dataframe tbody tr th {\n",
       "        vertical-align: top;\n",
       "    }\n",
       "\n",
       "    .dataframe thead th {\n",
       "        text-align: right;\n",
       "    }\n",
       "</style>\n",
       "<table border=\"1\" class=\"dataframe\">\n",
       "  <thead>\n",
       "    <tr style=\"text-align: right;\">\n",
       "      <th></th>\n",
       "      <th>Id</th>\n",
       "      <th>Text</th>\n",
       "    </tr>\n",
       "  </thead>\n",
       "  <tbody>\n",
       "    <tr>\n",
       "      <td>0</td>\n",
       "      <td>12</td>\n",
       "      <td>PRIMARY CARE</td>\n",
       "    </tr>\n",
       "    <tr>\n",
       "      <td>1</td>\n",
       "      <td>6</td>\n",
       "      <td>MENTAL HEALTH</td>\n",
       "    </tr>\n",
       "    <tr>\n",
       "      <td>2</td>\n",
       "      <td>3</td>\n",
       "      <td>WOMEN'S HEALTH</td>\n",
       "    </tr>\n",
       "    <tr>\n",
       "      <td>3</td>\n",
       "      <td>1</td>\n",
       "      <td>AUDIOLOGY</td>\n",
       "    </tr>\n",
       "    <tr>\n",
       "      <td>4</td>\n",
       "      <td>2</td>\n",
       "      <td>CARDIOLOGY</td>\n",
       "    </tr>\n",
       "  </tbody>\n",
       "</table>\n",
       "</div>"
      ],
      "text/plain": [
       "   Id            Text\n",
       "0  12    PRIMARY CARE\n",
       "1   6   MENTAL HEALTH\n",
       "2   3  WOMEN'S HEALTH\n",
       "3   1       AUDIOLOGY\n",
       "4   2      CARDIOLOGY"
      ]
     },
     "execution_count": 28,
     "metadata": {},
     "output_type": "execute_result"
    }
   ],
   "source": [
    "clinic_types.head()"
   ]
  },
  {
   "cell_type": "code",
   "execution_count": 29,
   "metadata": {},
   "outputs": [],
   "source": [
    "urls = []\n",
    "\n",
    "for clinic_types_idx, clinic_types_row in clinic_types.iterrows():\n",
    "    for states_idx, states_row in states.iterrows():\n",
    "        for pat_type_idx, pat_type_row in pat_types.iterrows():\n",
    "            \n",
    "            c_state = states_row.get(\"Abbreviation\")\n",
    "            c_clinic_type = clinic_types_row.get(\"Id\")\n",
    "            c_pat_type = pat_type_row.get(\"pat_type\")\n",
    "\n",
    "            url = get_url(c_state, c_clinic_type, c_pat_type)\n",
    "            urls.append(url)\n",
    "           "
   ]
  },
  {
   "cell_type": "code",
   "execution_count": 30,
   "metadata": {},
   "outputs": [],
   "source": [
    "def process_urls(url_list):\n",
    "    rs = (grequests.get(u) for u in url_list)\n",
    "    out = grequests.map(rs, exception_handler=exception_handler)\n",
    "    return out"
   ]
  },
  {
   "cell_type": "code",
   "execution_count": 31,
   "metadata": {},
   "outputs": [],
   "source": [
    "def process_outs(out):\n",
    "    for o in out:\n",
    "        try:\n",
    "            if o.status_code == 200: \n",
    "                df_res = pd.DataFrame(o.json())\n",
    "                df_res[\"source_url\"] = o.url\n",
    "                dfs.append(df_res)\n",
    "            else: \n",
    "                errs.append(o.json())\n",
    "        except Exception as e:\n",
    "            msg = (\"No JSON parsing possible for URL: %s ## url: %s \" % (o.text, o.url))\n",
    "            logger.error(msg)"
   ]
  },
  {
   "cell_type": "code",
   "execution_count": 46,
   "metadata": {},
   "outputs": [],
   "source": [
    "def store_result_file(result_data_frame):\n",
    "    ts = int(datetime.datetime.utcnow().timestamp())\n",
    "    result_data_frame[\"withdrawdate\"] = ts\n",
    "    out_path_file = os.path.join(BASE_PATH_STORAGE, \"wait_times_\" + str(ts) + \".csv\")\n",
    "    result_data_frame.to_csv(out_path_file, index = None, header=True)"
   ]
  },
  {
   "cell_type": "markdown",
   "metadata": {},
   "source": [
    "## Processing the created URLs and splitting them up to avoid file-write errors / session or socket errors"
   ]
  },
  {
   "cell_type": "code",
   "execution_count": 32,
   "metadata": {
    "collapsed": true,
    "jupyter": {
     "outputs_hidden": true
    }
   },
   "outputs": [
    {
     "name": "stderr",
     "output_type": "stream",
     "text": [
      "2019-08-27 04:33:13,796 - __main__ - ERROR - No JSON parsing possible for URL: Sorry, location 'AK' was found but no VA facilities matched your search criteria.  Please update your search and try again. (* If searching by state, only results within the state are displayed) ## url: https://www.accesstopwt.va.gov/PWT/getRawData?location=AK&apptType=3&patientType=New_Patient&MaxWaitTime=-1&sortOrder=FacilityName&userLatitude=-1&userLongitude=-1&format=JSON \n",
      "2019-08-27 04:33:13,796 - __main__ - ERROR - No JSON parsing possible for URL: Sorry, location 'AK' was found but no VA facilities matched your search criteria.  Please update your search and try again. (* If searching by state, only results within the state are displayed) ## url: https://www.accesstopwt.va.gov/PWT/getRawData?location=AK&apptType=3&patientType=New_Patient&MaxWaitTime=-1&sortOrder=FacilityName&userLatitude=-1&userLongitude=-1&format=JSON \n",
      "2019-08-27 04:33:13,801 - __main__ - ERROR - No JSON parsing possible for URL: Sorry, location 'AK' was found but no VA facilities matched your search criteria.  Please update your search and try again. (* If searching by state, only results within the state are displayed) ## url: https://www.accesstopwt.va.gov/PWT/getRawData?location=AK&apptType=3&patientType=Established_Patient&MaxWaitTime=-1&sortOrder=FacilityName&userLatitude=-1&userLongitude=-1&format=JSON \n",
      "2019-08-27 04:33:13,801 - __main__ - ERROR - No JSON parsing possible for URL: Sorry, location 'AK' was found but no VA facilities matched your search criteria.  Please update your search and try again. (* If searching by state, only results within the state are displayed) ## url: https://www.accesstopwt.va.gov/PWT/getRawData?location=AK&apptType=3&patientType=Established_Patient&MaxWaitTime=-1&sortOrder=FacilityName&userLatitude=-1&userLongitude=-1&format=JSON \n",
      "2019-08-27 04:33:13,896 - __main__ - ERROR - No JSON parsing possible for URL: Sorry, location 'MT' was found but no VA facilities matched your search criteria.  Please update your search and try again. (* If searching by state, only results within the state are displayed) ## url: https://www.accesstopwt.va.gov/PWT/getRawData?location=MT&apptType=3&patientType=New_Patient&MaxWaitTime=-1&sortOrder=FacilityName&userLatitude=-1&userLongitude=-1&format=JSON \n",
      "2019-08-27 04:33:13,896 - __main__ - ERROR - No JSON parsing possible for URL: Sorry, location 'MT' was found but no VA facilities matched your search criteria.  Please update your search and try again. (* If searching by state, only results within the state are displayed) ## url: https://www.accesstopwt.va.gov/PWT/getRawData?location=MT&apptType=3&patientType=New_Patient&MaxWaitTime=-1&sortOrder=FacilityName&userLatitude=-1&userLongitude=-1&format=JSON \n",
      "2019-08-27 04:33:13,900 - __main__ - ERROR - No JSON parsing possible for URL: Sorry, location 'MT' was found but no VA facilities matched your search criteria.  Please update your search and try again. (* If searching by state, only results within the state are displayed) ## url: https://www.accesstopwt.va.gov/PWT/getRawData?location=MT&apptType=3&patientType=Established_Patient&MaxWaitTime=-1&sortOrder=FacilityName&userLatitude=-1&userLongitude=-1&format=JSON \n",
      "2019-08-27 04:33:13,900 - __main__ - ERROR - No JSON parsing possible for URL: Sorry, location 'MT' was found but no VA facilities matched your search criteria.  Please update your search and try again. (* If searching by state, only results within the state are displayed) ## url: https://www.accesstopwt.va.gov/PWT/getRawData?location=MT&apptType=3&patientType=Established_Patient&MaxWaitTime=-1&sortOrder=FacilityName&userLatitude=-1&userLongitude=-1&format=JSON \n",
      "2019-08-27 04:33:13,903 - __main__ - ERROR - No JSON parsing possible for URL: Sorry, location 'NE' was found but no VA facilities matched your search criteria.  Please update your search and try again. (* If searching by state, only results within the state are displayed) ## url: https://www.accesstopwt.va.gov/PWT/getRawData?location=NE&apptType=3&patientType=New_Patient&MaxWaitTime=-1&sortOrder=FacilityName&userLatitude=-1&userLongitude=-1&format=JSON \n",
      "2019-08-27 04:33:13,903 - __main__ - ERROR - No JSON parsing possible for URL: Sorry, location 'NE' was found but no VA facilities matched your search criteria.  Please update your search and try again. (* If searching by state, only results within the state are displayed) ## url: https://www.accesstopwt.va.gov/PWT/getRawData?location=NE&apptType=3&patientType=New_Patient&MaxWaitTime=-1&sortOrder=FacilityName&userLatitude=-1&userLongitude=-1&format=JSON \n",
      "2019-08-27 04:33:13,905 - __main__ - ERROR - No JSON parsing possible for URL: Sorry, location 'NE' was found but no VA facilities matched your search criteria.  Please update your search and try again. (* If searching by state, only results within the state are displayed) ## url: https://www.accesstopwt.va.gov/PWT/getRawData?location=NE&apptType=3&patientType=Established_Patient&MaxWaitTime=-1&sortOrder=FacilityName&userLatitude=-1&userLongitude=-1&format=JSON \n",
      "2019-08-27 04:33:13,905 - __main__ - ERROR - No JSON parsing possible for URL: Sorry, location 'NE' was found but no VA facilities matched your search criteria.  Please update your search and try again. (* If searching by state, only results within the state are displayed) ## url: https://www.accesstopwt.va.gov/PWT/getRawData?location=NE&apptType=3&patientType=Established_Patient&MaxWaitTime=-1&sortOrder=FacilityName&userLatitude=-1&userLongitude=-1&format=JSON \n",
      "2019-08-27 04:33:13,949 - __main__ - ERROR - No JSON parsing possible for URL: Sorry, location 'ND' was found but no VA facilities matched your search criteria.  Please update your search and try again. (* If searching by state, only results within the state are displayed) ## url: https://www.accesstopwt.va.gov/PWT/getRawData?location=ND&apptType=3&patientType=New_Patient&MaxWaitTime=-1&sortOrder=FacilityName&userLatitude=-1&userLongitude=-1&format=JSON \n",
      "2019-08-27 04:33:13,949 - __main__ - ERROR - No JSON parsing possible for URL: Sorry, location 'ND' was found but no VA facilities matched your search criteria.  Please update your search and try again. (* If searching by state, only results within the state are displayed) ## url: https://www.accesstopwt.va.gov/PWT/getRawData?location=ND&apptType=3&patientType=New_Patient&MaxWaitTime=-1&sortOrder=FacilityName&userLatitude=-1&userLongitude=-1&format=JSON \n",
      "2019-08-27 04:33:13,953 - __main__ - ERROR - No JSON parsing possible for URL: Sorry, location 'ND' was found but no VA facilities matched your search criteria.  Please update your search and try again. (* If searching by state, only results within the state are displayed) ## url: https://www.accesstopwt.va.gov/PWT/getRawData?location=ND&apptType=3&patientType=Established_Patient&MaxWaitTime=-1&sortOrder=FacilityName&userLatitude=-1&userLongitude=-1&format=JSON \n",
      "2019-08-27 04:33:13,953 - __main__ - ERROR - No JSON parsing possible for URL: Sorry, location 'ND' was found but no VA facilities matched your search criteria.  Please update your search and try again. (* If searching by state, only results within the state are displayed) ## url: https://www.accesstopwt.va.gov/PWT/getRawData?location=ND&apptType=3&patientType=Established_Patient&MaxWaitTime=-1&sortOrder=FacilityName&userLatitude=-1&userLongitude=-1&format=JSON \n",
      "2019-08-27 04:33:14,595 - __main__ - ERROR - No JSON parsing possible for URL: Sorry, location 'AK' was found but no VA facilities matched your search criteria.  Please update your search and try again. (* If searching by state, only results within the state are displayed) ## url: https://www.accesstopwt.va.gov/PWT/getRawData?location=AK&apptType=4&patientType=New_Patient&MaxWaitTime=-1&sortOrder=FacilityName&userLatitude=-1&userLongitude=-1&format=JSON \n",
      "2019-08-27 04:33:14,595 - __main__ - ERROR - No JSON parsing possible for URL: Sorry, location 'AK' was found but no VA facilities matched your search criteria.  Please update your search and try again. (* If searching by state, only results within the state are displayed) ## url: https://www.accesstopwt.va.gov/PWT/getRawData?location=AK&apptType=4&patientType=New_Patient&MaxWaitTime=-1&sortOrder=FacilityName&userLatitude=-1&userLongitude=-1&format=JSON \n",
      "2019-08-27 04:33:14,599 - __main__ - ERROR - No JSON parsing possible for URL: Sorry, location 'AK' was found but no VA facilities matched your search criteria.  Please update your search and try again. (* If searching by state, only results within the state are displayed) ## url: https://www.accesstopwt.va.gov/PWT/getRawData?location=AK&apptType=4&patientType=Established_Patient&MaxWaitTime=-1&sortOrder=FacilityName&userLatitude=-1&userLongitude=-1&format=JSON \n",
      "2019-08-27 04:33:14,599 - __main__ - ERROR - No JSON parsing possible for URL: Sorry, location 'AK' was found but no VA facilities matched your search criteria.  Please update your search and try again. (* If searching by state, only results within the state are displayed) ## url: https://www.accesstopwt.va.gov/PWT/getRawData?location=AK&apptType=4&patientType=Established_Patient&MaxWaitTime=-1&sortOrder=FacilityName&userLatitude=-1&userLongitude=-1&format=JSON \n",
      "2019-08-27 04:33:22,922 - __main__ - ERROR - No JSON parsing possible for URL: Sorry, location 'AK' was found but no VA facilities matched your search criteria.  Please update your search and try again. (* If searching by state, only results within the state are displayed) ## url: https://www.accesstopwt.va.gov/PWT/getRawData?location=AK&apptType=5&patientType=New_Patient&MaxWaitTime=-1&sortOrder=FacilityName&userLatitude=-1&userLongitude=-1&format=JSON \n",
      "2019-08-27 04:33:22,922 - __main__ - ERROR - No JSON parsing possible for URL: Sorry, location 'AK' was found but no VA facilities matched your search criteria.  Please update your search and try again. (* If searching by state, only results within the state are displayed) ## url: https://www.accesstopwt.va.gov/PWT/getRawData?location=AK&apptType=5&patientType=New_Patient&MaxWaitTime=-1&sortOrder=FacilityName&userLatitude=-1&userLongitude=-1&format=JSON \n",
      "2019-08-27 04:33:22,926 - __main__ - ERROR - No JSON parsing possible for URL: Sorry, location 'AK' was found but no VA facilities matched your search criteria.  Please update your search and try again. (* If searching by state, only results within the state are displayed) ## url: https://www.accesstopwt.va.gov/PWT/getRawData?location=AK&apptType=5&patientType=Established_Patient&MaxWaitTime=-1&sortOrder=FacilityName&userLatitude=-1&userLongitude=-1&format=JSON \n",
      "2019-08-27 04:33:22,926 - __main__ - ERROR - No JSON parsing possible for URL: Sorry, location 'AK' was found but no VA facilities matched your search criteria.  Please update your search and try again. (* If searching by state, only results within the state are displayed) ## url: https://www.accesstopwt.va.gov/PWT/getRawData?location=AK&apptType=5&patientType=Established_Patient&MaxWaitTime=-1&sortOrder=FacilityName&userLatitude=-1&userLongitude=-1&format=JSON \n",
      "2019-08-27 04:33:23,216 - __main__ - ERROR - No JSON parsing possible for URL: Sorry, location 'AK' was found but no VA facilities matched your search criteria.  Please update your search and try again. (* If searching by state, only results within the state are displayed) ## url: https://www.accesstopwt.va.gov/PWT/getRawData?location=AK&apptType=7&patientType=New_Patient&MaxWaitTime=-1&sortOrder=FacilityName&userLatitude=-1&userLongitude=-1&format=JSON \n",
      "2019-08-27 04:33:23,216 - __main__ - ERROR - No JSON parsing possible for URL: Sorry, location 'AK' was found but no VA facilities matched your search criteria.  Please update your search and try again. (* If searching by state, only results within the state are displayed) ## url: https://www.accesstopwt.va.gov/PWT/getRawData?location=AK&apptType=7&patientType=New_Patient&MaxWaitTime=-1&sortOrder=FacilityName&userLatitude=-1&userLongitude=-1&format=JSON \n",
      "2019-08-27 04:33:23,220 - __main__ - ERROR - No JSON parsing possible for URL: Sorry, location 'AK' was found but no VA facilities matched your search criteria.  Please update your search and try again. (* If searching by state, only results within the state are displayed) ## url: https://www.accesstopwt.va.gov/PWT/getRawData?location=AK&apptType=7&patientType=Established_Patient&MaxWaitTime=-1&sortOrder=FacilityName&userLatitude=-1&userLongitude=-1&format=JSON \n",
      "2019-08-27 04:33:23,220 - __main__ - ERROR - No JSON parsing possible for URL: Sorry, location 'AK' was found but no VA facilities matched your search criteria.  Please update your search and try again. (* If searching by state, only results within the state are displayed) ## url: https://www.accesstopwt.va.gov/PWT/getRawData?location=AK&apptType=7&patientType=Established_Patient&MaxWaitTime=-1&sortOrder=FacilityName&userLatitude=-1&userLongitude=-1&format=JSON \n",
      "2019-08-27 04:33:23,479 - __main__ - ERROR - No JSON parsing possible for URL: Sorry, location 'AK' was found but no VA facilities matched your search criteria.  Please update your search and try again. (* If searching by state, only results within the state are displayed) ## url: https://www.accesstopwt.va.gov/PWT/getRawData?location=AK&apptType=8&patientType=New_Patient&MaxWaitTime=-1&sortOrder=FacilityName&userLatitude=-1&userLongitude=-1&format=JSON \n",
      "2019-08-27 04:33:23,479 - __main__ - ERROR - No JSON parsing possible for URL: Sorry, location 'AK' was found but no VA facilities matched your search criteria.  Please update your search and try again. (* If searching by state, only results within the state are displayed) ## url: https://www.accesstopwt.va.gov/PWT/getRawData?location=AK&apptType=8&patientType=New_Patient&MaxWaitTime=-1&sortOrder=FacilityName&userLatitude=-1&userLongitude=-1&format=JSON \n",
      "2019-08-27 04:33:23,483 - __main__ - ERROR - No JSON parsing possible for URL: Sorry, location 'AK' was found but no VA facilities matched your search criteria.  Please update your search and try again. (* If searching by state, only results within the state are displayed) ## url: https://www.accesstopwt.va.gov/PWT/getRawData?location=AK&apptType=8&patientType=Established_Patient&MaxWaitTime=-1&sortOrder=FacilityName&userLatitude=-1&userLongitude=-1&format=JSON \n",
      "2019-08-27 04:33:23,483 - __main__ - ERROR - No JSON parsing possible for URL: Sorry, location 'AK' was found but no VA facilities matched your search criteria.  Please update your search and try again. (* If searching by state, only results within the state are displayed) ## url: https://www.accesstopwt.va.gov/PWT/getRawData?location=AK&apptType=8&patientType=Established_Patient&MaxWaitTime=-1&sortOrder=FacilityName&userLatitude=-1&userLongitude=-1&format=JSON \n",
      "2019-08-27 04:33:23,537 - __main__ - ERROR - No JSON parsing possible for URL: Sorry, location 'ID' was found but no VA facilities matched your search criteria.  Please update your search and try again. (* If searching by state, only results within the state are displayed) ## url: https://www.accesstopwt.va.gov/PWT/getRawData?location=ID&apptType=8&patientType=New_Patient&MaxWaitTime=-1&sortOrder=FacilityName&userLatitude=-1&userLongitude=-1&format=JSON \n",
      "2019-08-27 04:33:23,537 - __main__ - ERROR - No JSON parsing possible for URL: Sorry, location 'ID' was found but no VA facilities matched your search criteria.  Please update your search and try again. (* If searching by state, only results within the state are displayed) ## url: https://www.accesstopwt.va.gov/PWT/getRawData?location=ID&apptType=8&patientType=New_Patient&MaxWaitTime=-1&sortOrder=FacilityName&userLatitude=-1&userLongitude=-1&format=JSON \n",
      "2019-08-27 04:33:23,542 - __main__ - ERROR - No JSON parsing possible for URL: Sorry, location 'ID' was found but no VA facilities matched your search criteria.  Please update your search and try again. (* If searching by state, only results within the state are displayed) ## url: https://www.accesstopwt.va.gov/PWT/getRawData?location=ID&apptType=8&patientType=Established_Patient&MaxWaitTime=-1&sortOrder=FacilityName&userLatitude=-1&userLongitude=-1&format=JSON \n",
      "2019-08-27 04:33:23,542 - __main__ - ERROR - No JSON parsing possible for URL: Sorry, location 'ID' was found but no VA facilities matched your search criteria.  Please update your search and try again. (* If searching by state, only results within the state are displayed) ## url: https://www.accesstopwt.va.gov/PWT/getRawData?location=ID&apptType=8&patientType=Established_Patient&MaxWaitTime=-1&sortOrder=FacilityName&userLatitude=-1&userLongitude=-1&format=JSON \n",
      "2019-08-27 04:33:23,756 - __main__ - ERROR - No JSON parsing possible for URL: Sorry, location 'AK' was found but no VA facilities matched your search criteria.  Please update your search and try again. (* If searching by state, only results within the state are displayed) ## url: https://www.accesstopwt.va.gov/PWT/getRawData?location=AK&apptType=9&patientType=New_Patient&MaxWaitTime=-1&sortOrder=FacilityName&userLatitude=-1&userLongitude=-1&format=JSON \n",
      "2019-08-27 04:33:23,756 - __main__ - ERROR - No JSON parsing possible for URL: Sorry, location 'AK' was found but no VA facilities matched your search criteria.  Please update your search and try again. (* If searching by state, only results within the state are displayed) ## url: https://www.accesstopwt.va.gov/PWT/getRawData?location=AK&apptType=9&patientType=New_Patient&MaxWaitTime=-1&sortOrder=FacilityName&userLatitude=-1&userLongitude=-1&format=JSON \n",
      "2019-08-27 04:33:23,760 - __main__ - ERROR - No JSON parsing possible for URL: Sorry, location 'AK' was found but no VA facilities matched your search criteria.  Please update your search and try again. (* If searching by state, only results within the state are displayed) ## url: https://www.accesstopwt.va.gov/PWT/getRawData?location=AK&apptType=9&patientType=Established_Patient&MaxWaitTime=-1&sortOrder=FacilityName&userLatitude=-1&userLongitude=-1&format=JSON \n",
      "2019-08-27 04:33:23,760 - __main__ - ERROR - No JSON parsing possible for URL: Sorry, location 'AK' was found but no VA facilities matched your search criteria.  Please update your search and try again. (* If searching by state, only results within the state are displayed) ## url: https://www.accesstopwt.va.gov/PWT/getRawData?location=AK&apptType=9&patientType=Established_Patient&MaxWaitTime=-1&sortOrder=FacilityName&userLatitude=-1&userLongitude=-1&format=JSON \n",
      "2019-08-27 04:33:23,856 - __main__ - ERROR - No JSON parsing possible for URL: Sorry, location 'MT' was found but no VA facilities matched your search criteria.  Please update your search and try again. (* If searching by state, only results within the state are displayed) ## url: https://www.accesstopwt.va.gov/PWT/getRawData?location=MT&apptType=9&patientType=New_Patient&MaxWaitTime=-1&sortOrder=FacilityName&userLatitude=-1&userLongitude=-1&format=JSON \n",
      "2019-08-27 04:33:23,856 - __main__ - ERROR - No JSON parsing possible for URL: Sorry, location 'MT' was found but no VA facilities matched your search criteria.  Please update your search and try again. (* If searching by state, only results within the state are displayed) ## url: https://www.accesstopwt.va.gov/PWT/getRawData?location=MT&apptType=9&patientType=New_Patient&MaxWaitTime=-1&sortOrder=FacilityName&userLatitude=-1&userLongitude=-1&format=JSON \n",
      "2019-08-27 04:33:23,860 - __main__ - ERROR - No JSON parsing possible for URL: Sorry, location 'MT' was found but no VA facilities matched your search criteria.  Please update your search and try again. (* If searching by state, only results within the state are displayed) ## url: https://www.accesstopwt.va.gov/PWT/getRawData?location=MT&apptType=9&patientType=Established_Patient&MaxWaitTime=-1&sortOrder=FacilityName&userLatitude=-1&userLongitude=-1&format=JSON \n",
      "2019-08-27 04:33:23,860 - __main__ - ERROR - No JSON parsing possible for URL: Sorry, location 'MT' was found but no VA facilities matched your search criteria.  Please update your search and try again. (* If searching by state, only results within the state are displayed) ## url: https://www.accesstopwt.va.gov/PWT/getRawData?location=MT&apptType=9&patientType=Established_Patient&MaxWaitTime=-1&sortOrder=FacilityName&userLatitude=-1&userLongitude=-1&format=JSON \n",
      "2019-08-27 04:33:24,023 - __main__ - ERROR - No JSON parsing possible for URL: Sorry, location 'AK' was found but no VA facilities matched your search criteria.  Please update your search and try again. (* If searching by state, only results within the state are displayed) ## url: https://www.accesstopwt.va.gov/PWT/getRawData?location=AK&apptType=10&patientType=New_Patient&MaxWaitTime=-1&sortOrder=FacilityName&userLatitude=-1&userLongitude=-1&format=JSON \n",
      "2019-08-27 04:33:24,023 - __main__ - ERROR - No JSON parsing possible for URL: Sorry, location 'AK' was found but no VA facilities matched your search criteria.  Please update your search and try again. (* If searching by state, only results within the state are displayed) ## url: https://www.accesstopwt.va.gov/PWT/getRawData?location=AK&apptType=10&patientType=New_Patient&MaxWaitTime=-1&sortOrder=FacilityName&userLatitude=-1&userLongitude=-1&format=JSON \n",
      "2019-08-27 04:33:24,028 - __main__ - ERROR - No JSON parsing possible for URL: Sorry, location 'AK' was found but no VA facilities matched your search criteria.  Please update your search and try again. (* If searching by state, only results within the state are displayed) ## url: https://www.accesstopwt.va.gov/PWT/getRawData?location=AK&apptType=10&patientType=Established_Patient&MaxWaitTime=-1&sortOrder=FacilityName&userLatitude=-1&userLongitude=-1&format=JSON \n",
      "2019-08-27 04:33:24,028 - __main__ - ERROR - No JSON parsing possible for URL: Sorry, location 'AK' was found but no VA facilities matched your search criteria.  Please update your search and try again. (* If searching by state, only results within the state are displayed) ## url: https://www.accesstopwt.va.gov/PWT/getRawData?location=AK&apptType=10&patientType=Established_Patient&MaxWaitTime=-1&sortOrder=FacilityName&userLatitude=-1&userLongitude=-1&format=JSON \n",
      "2019-08-27 04:33:24,286 - __main__ - ERROR - No JSON parsing possible for URL: Sorry, location 'AK' was found but no VA facilities matched your search criteria.  Please update your search and try again. (* If searching by state, only results within the state are displayed) ## url: https://www.accesstopwt.va.gov/PWT/getRawData?location=AK&apptType=14&patientType=New_Patient&MaxWaitTime=-1&sortOrder=FacilityName&userLatitude=-1&userLongitude=-1&format=JSON \n",
      "2019-08-27 04:33:24,286 - __main__ - ERROR - No JSON parsing possible for URL: Sorry, location 'AK' was found but no VA facilities matched your search criteria.  Please update your search and try again. (* If searching by state, only results within the state are displayed) ## url: https://www.accesstopwt.va.gov/PWT/getRawData?location=AK&apptType=14&patientType=New_Patient&MaxWaitTime=-1&sortOrder=FacilityName&userLatitude=-1&userLongitude=-1&format=JSON \n",
      "2019-08-27 04:33:24,290 - __main__ - ERROR - No JSON parsing possible for URL: Sorry, location 'AK' was found but no VA facilities matched your search criteria.  Please update your search and try again. (* If searching by state, only results within the state are displayed) ## url: https://www.accesstopwt.va.gov/PWT/getRawData?location=AK&apptType=14&patientType=Established_Patient&MaxWaitTime=-1&sortOrder=FacilityName&userLatitude=-1&userLongitude=-1&format=JSON \n",
      "2019-08-27 04:33:24,290 - __main__ - ERROR - No JSON parsing possible for URL: Sorry, location 'AK' was found but no VA facilities matched your search criteria.  Please update your search and try again. (* If searching by state, only results within the state are displayed) ## url: https://www.accesstopwt.va.gov/PWT/getRawData?location=AK&apptType=14&patientType=Established_Patient&MaxWaitTime=-1&sortOrder=FacilityName&userLatitude=-1&userLongitude=-1&format=JSON \n",
      "2019-08-27 04:33:24,340 - __main__ - ERROR - No JSON parsing possible for URL: Sorry, location 'HI' was found but no VA facilities matched your search criteria.  Please update your search and try again. (* If searching by state, only results within the state are displayed) ## url: https://www.accesstopwt.va.gov/PWT/getRawData?location=HI&apptType=14&patientType=New_Patient&MaxWaitTime=-1&sortOrder=FacilityName&userLatitude=-1&userLongitude=-1&format=JSON \n",
      "2019-08-27 04:33:24,340 - __main__ - ERROR - No JSON parsing possible for URL: Sorry, location 'HI' was found but no VA facilities matched your search criteria.  Please update your search and try again. (* If searching by state, only results within the state are displayed) ## url: https://www.accesstopwt.va.gov/PWT/getRawData?location=HI&apptType=14&patientType=New_Patient&MaxWaitTime=-1&sortOrder=FacilityName&userLatitude=-1&userLongitude=-1&format=JSON \n",
      "2019-08-27 04:33:24,344 - __main__ - ERROR - No JSON parsing possible for URL: Sorry, location 'HI' was found but no VA facilities matched your search criteria.  Please update your search and try again. (* If searching by state, only results within the state are displayed) ## url: https://www.accesstopwt.va.gov/PWT/getRawData?location=HI&apptType=14&patientType=Established_Patient&MaxWaitTime=-1&sortOrder=FacilityName&userLatitude=-1&userLongitude=-1&format=JSON \n",
      "2019-08-27 04:33:24,344 - __main__ - ERROR - No JSON parsing possible for URL: Sorry, location 'HI' was found but no VA facilities matched your search criteria.  Please update your search and try again. (* If searching by state, only results within the state are displayed) ## url: https://www.accesstopwt.va.gov/PWT/getRawData?location=HI&apptType=14&patientType=Established_Patient&MaxWaitTime=-1&sortOrder=FacilityName&userLatitude=-1&userLongitude=-1&format=JSON \n"
     ]
    }
   ],
   "source": [
    "dfs = []\n",
    "errs = []\n",
    "process_outs(process_urls(urls[:600]))\n",
    "process_outs(process_urls(urls[601:1200]))\n",
    "process_outs(process_urls(urls[1201:]))"
   ]
  },
  {
   "cell_type": "code",
   "execution_count": 34,
   "metadata": {},
   "outputs": [
    {
     "data": {
      "text/html": [
       "<div>\n",
       "<style scoped>\n",
       "    .dataframe tbody tr th:only-of-type {\n",
       "        vertical-align: middle;\n",
       "    }\n",
       "\n",
       "    .dataframe tbody tr th {\n",
       "        vertical-align: top;\n",
       "    }\n",
       "\n",
       "    .dataframe thead th {\n",
       "        text-align: right;\n",
       "    }\n",
       "</style>\n",
       "<table border=\"1\" class=\"dataframe\">\n",
       "  <thead>\n",
       "    <tr style=\"text-align: right;\">\n",
       "      <th></th>\n",
       "      <th>facilityID</th>\n",
       "      <th>VISN</th>\n",
       "      <th>name</th>\n",
       "      <th>type</th>\n",
       "      <th>address</th>\n",
       "      <th>city</th>\n",
       "      <th>state</th>\n",
       "      <th>zip</th>\n",
       "      <th>phone</th>\n",
       "      <th>fax</th>\n",
       "      <th>...</th>\n",
       "      <th>ED</th>\n",
       "      <th>UC</th>\n",
       "      <th>SameDayPC</th>\n",
       "      <th>SameDayMH</th>\n",
       "      <th>WalkInPC</th>\n",
       "      <th>WalkInMH</th>\n",
       "      <th>TelehealthPC</th>\n",
       "      <th>TelehealthMH</th>\n",
       "      <th>distance</th>\n",
       "      <th>source_url</th>\n",
       "    </tr>\n",
       "  </thead>\n",
       "  <tbody>\n",
       "    <tr>\n",
       "      <td>0</td>\n",
       "      <td>521GG</td>\n",
       "      <td>7</td>\n",
       "      <td>Bessemer VA Clinic</td>\n",
       "      <td>1</td>\n",
       "      <td>975 Ninth Avenue, Southwest</td>\n",
       "      <td>Bessemer</td>\n",
       "      <td>AL</td>\n",
       "      <td>35022</td>\n",
       "      <td>205-428-3495</td>\n",
       "      <td>205-428-9240</td>\n",
       "      <td>...</td>\n",
       "      <td>False</td>\n",
       "      <td>False</td>\n",
       "      <td>True</td>\n",
       "      <td>True</td>\n",
       "      <td>False</td>\n",
       "      <td>False</td>\n",
       "      <td>False</td>\n",
       "      <td>True</td>\n",
       "      <td>-1</td>\n",
       "      <td>https://www.accesstopwt.va.gov/PWT/getRawData?...</td>\n",
       "    </tr>\n",
       "    <tr>\n",
       "      <td>1</td>\n",
       "      <td>521GJ</td>\n",
       "      <td>7</td>\n",
       "      <td>Birmingham VA Clinic</td>\n",
       "      <td>1</td>\n",
       "      <td>2415 7th Avenue South</td>\n",
       "      <td>Birmingham</td>\n",
       "      <td>AL</td>\n",
       "      <td>35233</td>\n",
       "      <td>205-933-8101</td>\n",
       "      <td>205-933-4497</td>\n",
       "      <td>...</td>\n",
       "      <td>False</td>\n",
       "      <td>False</td>\n",
       "      <td>True</td>\n",
       "      <td>True</td>\n",
       "      <td>False</td>\n",
       "      <td>False</td>\n",
       "      <td>False</td>\n",
       "      <td>True</td>\n",
       "      <td>-1</td>\n",
       "      <td>https://www.accesstopwt.va.gov/PWT/getRawData?...</td>\n",
       "    </tr>\n",
       "    <tr>\n",
       "      <td>2</td>\n",
       "      <td>521</td>\n",
       "      <td>7</td>\n",
       "      <td>Birmingham VA Medical Center</td>\n",
       "      <td>0</td>\n",
       "      <td>700 South 19th Street</td>\n",
       "      <td>Birmingham</td>\n",
       "      <td>AL</td>\n",
       "      <td>35233</td>\n",
       "      <td>205-933-8101</td>\n",
       "      <td>205-933-4497</td>\n",
       "      <td>...</td>\n",
       "      <td>True</td>\n",
       "      <td>False</td>\n",
       "      <td>True</td>\n",
       "      <td>True</td>\n",
       "      <td>True</td>\n",
       "      <td>False</td>\n",
       "      <td>True</td>\n",
       "      <td>True</td>\n",
       "      <td>-1</td>\n",
       "      <td>https://www.accesstopwt.va.gov/PWT/getRawData?...</td>\n",
       "    </tr>\n",
       "    <tr>\n",
       "      <td>3</td>\n",
       "      <td>619GF</td>\n",
       "      <td>7</td>\n",
       "      <td>Central Alabama Montgomery VA Clinic</td>\n",
       "      <td>1</td>\n",
       "      <td>8105 Veterans Way</td>\n",
       "      <td>Montgomery</td>\n",
       "      <td>AL</td>\n",
       "      <td>36117</td>\n",
       "      <td>800-214-8387</td>\n",
       "      <td>334-395-5610</td>\n",
       "      <td>...</td>\n",
       "      <td>False</td>\n",
       "      <td>False</td>\n",
       "      <td>True</td>\n",
       "      <td>True</td>\n",
       "      <td>False</td>\n",
       "      <td>False</td>\n",
       "      <td>False</td>\n",
       "      <td>False</td>\n",
       "      <td>-1</td>\n",
       "      <td>https://www.accesstopwt.va.gov/PWT/getRawData?...</td>\n",
       "    </tr>\n",
       "    <tr>\n",
       "      <td>4</td>\n",
       "      <td>619A4</td>\n",
       "      <td>7</td>\n",
       "      <td>Central Alabama VA Medical Center-Tuskegee</td>\n",
       "      <td>0</td>\n",
       "      <td>2400 Hospital Road</td>\n",
       "      <td>Tuskegee</td>\n",
       "      <td>AL</td>\n",
       "      <td>36083</td>\n",
       "      <td>334-727-0550</td>\n",
       "      <td>334-724-2793</td>\n",
       "      <td>...</td>\n",
       "      <td>False</td>\n",
       "      <td>False</td>\n",
       "      <td>True</td>\n",
       "      <td>True</td>\n",
       "      <td>False</td>\n",
       "      <td>False</td>\n",
       "      <td>False</td>\n",
       "      <td>False</td>\n",
       "      <td>-1</td>\n",
       "      <td>https://www.accesstopwt.va.gov/PWT/getRawData?...</td>\n",
       "    </tr>\n",
       "  </tbody>\n",
       "</table>\n",
       "<p>5 rows × 27 columns</p>\n",
       "</div>"
      ],
      "text/plain": [
       "  facilityID  VISN                                        name  type  \\\n",
       "0      521GG     7                          Bessemer VA Clinic     1   \n",
       "1      521GJ     7                        Birmingham VA Clinic     1   \n",
       "2        521     7                Birmingham VA Medical Center     0   \n",
       "3      619GF     7        Central Alabama Montgomery VA Clinic     1   \n",
       "4      619A4     7  Central Alabama VA Medical Center-Tuskegee     0   \n",
       "\n",
       "                       address        city state    zip          phone  \\\n",
       "0  975 Ninth Avenue, Southwest    Bessemer    AL  35022  205-428-3495    \n",
       "1        2415 7th Avenue South  Birmingham    AL  35233  205-933-8101    \n",
       "2        700 South 19th Street  Birmingham    AL  35233  205-933-8101    \n",
       "3            8105 Veterans Way  Montgomery    AL  36117  800-214-8387    \n",
       "4           2400 Hospital Road    Tuskegee    AL  36083  334-727-0550    \n",
       "\n",
       "             fax  ...     ED     UC  SameDayPC SameDayMH  WalkInPC  WalkInMH  \\\n",
       "0  205-428-9240   ...  False  False       True      True     False     False   \n",
       "1  205-933-4497   ...  False  False       True      True     False     False   \n",
       "2  205-933-4497   ...   True  False       True      True      True     False   \n",
       "3  334-395-5610   ...  False  False       True      True     False     False   \n",
       "4  334-724-2793   ...  False  False       True      True     False     False   \n",
       "\n",
       "  TelehealthPC  TelehealthMH  distance  \\\n",
       "0        False          True        -1   \n",
       "1        False          True        -1   \n",
       "2         True          True        -1   \n",
       "3        False         False        -1   \n",
       "4        False         False        -1   \n",
       "\n",
       "                                          source_url  \n",
       "0  https://www.accesstopwt.va.gov/PWT/getRawData?...  \n",
       "1  https://www.accesstopwt.va.gov/PWT/getRawData?...  \n",
       "2  https://www.accesstopwt.va.gov/PWT/getRawData?...  \n",
       "3  https://www.accesstopwt.va.gov/PWT/getRawData?...  \n",
       "4  https://www.accesstopwt.va.gov/PWT/getRawData?...  \n",
       "\n",
       "[5 rows x 27 columns]"
      ]
     },
     "execution_count": 34,
     "metadata": {},
     "output_type": "execute_result"
    }
   ],
   "source": [
    "df_result = pd.concat(dfs)\n",
    "df_result.head(5)"
   ]
  },
  {
   "cell_type": "code",
   "execution_count": 35,
   "metadata": {},
   "outputs": [
    {
     "data": {
      "text/plain": [
       "(10774, 27)"
      ]
     },
     "execution_count": 35,
     "metadata": {},
     "output_type": "execute_result"
    }
   ],
   "source": [
    "df_result.shape"
   ]
  },
  {
   "cell_type": "code",
   "execution_count": 36,
   "metadata": {},
   "outputs": [
    {
     "data": {
      "text/plain": [
       "1566880419"
      ]
     },
     "execution_count": 36,
     "metadata": {},
     "output_type": "execute_result"
    }
   ],
   "source": [
    "store_result_file(df_result)"
   ]
  }
 ],
 "metadata": {
  "kernelspec": {
   "display_name": "capvet",
   "language": "python",
   "name": "capvet"
  },
  "language_info": {
   "codemirror_mode": {
    "name": "ipython",
    "version": 3
   },
   "file_extension": ".py",
   "mimetype": "text/x-python",
   "name": "python",
   "nbconvert_exporter": "python",
   "pygments_lexer": "ipython3",
   "version": "3.7.3"
  }
 },
 "nbformat": 4,
 "nbformat_minor": 4
}
